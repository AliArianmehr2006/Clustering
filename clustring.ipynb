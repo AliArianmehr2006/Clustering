{
 "cells": [
  {
   "cell_type": "markdown",
   "id": "0193cc96",
   "metadata": {},
   "source": [
    "# به نام خدا "
   ]
  },
  {
   "cell_type": "markdown",
   "id": "56a74379",
   "metadata": {},
   "source": [
    "# فاز یک\n"
   ]
  },
  {
   "cell_type": "code",
   "execution_count": 9,
   "id": "ce890f94",
   "metadata": {},
   "outputs": [],
   "source": [
    "import os\n",
    "import cv2\n",
    "import numpy as np\n",
    "import pandas as pd\n",
    "from skimage.color import rgb2gray"
   ]
  },
  {
   "cell_type": "code",
   "execution_count": 11,
   "id": "a6fea0f9",
   "metadata": {},
   "outputs": [
    {
     "name": "stdout",
     "output_type": "stream",
     "text": [
      "✅ ویژگی‌های استخراج شده در C:\\Users\\ZC4\\Desktop\\image_features_6.csv ذخیره شدند.\n",
      "تعداد تصاویر پردازش شده: 3600\n",
      "تعداد ویژگی‌های هر تصویر: 6\n"
     ]
    }
   ],
   "source": [
    "\n",
    "\n",
    "# تنظیمات\n",
    "dataset_path = \"train\"\n",
    "output_csv = os.path.join(os.path.expanduser(\"~\"), \"Desktop\", \"image_features_6.csv\")  # ذخیره در دسکتاپ\n",
    "classes = [\"beach\", \"dense_residential\", \"desert\", \"forest\", \"intersection\", \"sea_ice\"]\n",
    "\n",
    "def extract_simple_features(image):\n",
    "    \"\"\"استخراج 6 ویژگی ساده از تصویر\"\"\"\n",
    "    # 1. میانگین رنگ در کانال‌های R, G, B\n",
    "    mean_r = np.mean(image[:,:,0])\n",
    "    mean_g = np.mean(image[:,:,1])\n",
    "    mean_b = np.mean(image[:,:,2])\n",
    "    \n",
    "    # 2. واریانس رنگ در کانال‌های R, G, B\n",
    "    var_r = np.var(image[:,:,0])\n",
    "    var_g = np.var(image[:,:,1])\n",
    "    var_b = np.var(image[:,:,2])\n",
    "    \n",
    "    return [mean_r, mean_g, mean_b, var_r, var_g, var_b]\n",
    "\n",
    "def extract_features(image_path):\n",
    "    \"\"\"استخراج ویژگی‌ها از یک تصویر\"\"\"\n",
    "    image = cv2.imread(image_path)\n",
    "    if image is None:\n",
    "        print(f\"⚠️ خطا در خواندن تصویر: {image_path}\")\n",
    "        return None\n",
    "    image = cv2.cvtColor(image, cv2.COLOR_BGR2RGB)\n",
    "    return extract_simple_features(image)\n",
    "\n",
    "# استخراج ویژگی از تمام تصاویر\n",
    "data = []\n",
    "for class_name in classes:\n",
    "    class_path = os.path.join(dataset_path, class_name)\n",
    "    if not os.path.exists(class_path):\n",
    "        print(f\"⚠️ پوشه {class_path} وجود ندارد!\")\n",
    "        continue\n",
    "        \n",
    "    for img_file in os.listdir(class_path):\n",
    "        img_path = os.path.join(class_path, img_file)\n",
    "        try:\n",
    "            features = extract_features(img_path)\n",
    "            if features is not None:\n",
    "                data.append({\n",
    "                    \"class\": class_name,\n",
    "                    \"filename\": img_file,\n",
    "                    \"mean_r\": features[0],\n",
    "                    \"mean_g\": features[1],\n",
    "                    \"mean_b\": features[2],\n",
    "                    \"var_r\": features[3],\n",
    "                    \"var_g\": features[4],\n",
    "                    \"var_b\": features[5]\n",
    "                })\n",
    "        except Exception as e:\n",
    "            print(f\"خطا در پردازش {img_path}: {str(e)}\")\n",
    "\n",
    "# ذخیره نتایج\n",
    "if data:\n",
    "    try:\n",
    "        df = pd.DataFrame(data)\n",
    "        df.to_csv(output_csv, index=False)\n",
    "        print(f\"✅ ویژگی‌های استخراج شده در {output_csv} ذخیره شدند.\")\n",
    "        print(f\"تعداد تصاویر پردازش شده: {len(df)}\")\n",
    "        print(f\"تعداد ویژگی‌های هر تصویر: 6\")\n",
    "    except PermissionError:\n",
    "        print(\"❌ خطای دسترسی! لطفاً:\")\n",
    "        print(\"1. فایل خروجی را اگر باز است ببندید\")\n",
    "        print(\"2. مسیر ذخیره متفاوتی انتخاب کنید\")\n",
    "        print(f\"مسیر پیشنهادی: {os.path.join(os.path.expanduser('~'), 'Desktop')}\")\n",
    "else:\n",
    "    print(\"❌ هیچ داده‌ای پردازش نشد!\")"
   ]
  }
 ],
 "metadata": {
  "kernelspec": {
   "display_name": "Python 3",
   "language": "python",
   "name": "python3"
  },
  "language_info": {
   "codemirror_mode": {
    "name": "ipython",
    "version": 3
   },
   "file_extension": ".py",
   "mimetype": "text/x-python",
   "name": "python",
   "nbconvert_exporter": "python",
   "pygments_lexer": "ipython3",
   "version": "3.13.5"
  }
 },
 "nbformat": 4,
 "nbformat_minor": 5
}
